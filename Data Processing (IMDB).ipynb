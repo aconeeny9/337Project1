{
 "cells": [
  {
   "cell_type": "markdown",
   "id": "17346f92",
   "metadata": {},
   "source": [
    "# IMDB Data Processing"
   ]
  },
  {
   "cell_type": "markdown",
   "id": "eed50a39",
   "metadata": {},
   "source": [
    "Download datset from IMDB website (https://www.imdb.com/interfaces/) so that we can check if the word (or phrase) we found is an actor, an actress, a director or a title "
   ]
  },
  {
   "cell_type": "markdown",
   "id": "87977694",
   "metadata": {},
   "source": [
    "All imports go here"
   ]
  },
  {
   "cell_type": "code",
   "execution_count": 1,
   "id": "9b2f8c18",
   "metadata": {},
   "outputs": [],
   "source": [
    "import csv\n",
    "import pickle"
   ]
  },
  {
   "cell_type": "markdown",
   "id": "150b1bd1",
   "metadata": {},
   "source": [
    "Load raw data\\\n",
    "name_data.tsv --> name.basics.tsv.gz (https://datasets.imdbws.com/name.basics.tsv.gz) \\\n",
    "title_data.tsv --> title.akas.tsv.gz (https://datasets.imdbws.com/title.akas.tsv.gz)"
   ]
  },
  {
   "cell_type": "code",
   "execution_count": 2,
   "id": "d2a9a094",
   "metadata": {},
   "outputs": [
    {
     "name": "stdout",
     "output_type": "stream",
     "text": [
      "['Fred Astaire', 'John Belushi', 'Ingmar Bergman', 'Humphrey Bogart', 'Marlon Brando', 'Richard Burton', 'James Cagney', 'Gary Cooper', 'James Dean', 'Kirk Douglas']\n",
      "['Carmencita', 'The Clown and His Dogs', 'Blacksmithing Scene', 'Blacksmith Scene #1', 'Blacksmithing', 'Blacksmith Scene', 'Chinese Opium Den', 'Corbett and Courtney Before the Kinetograph', 'The Corbett-Courtney Fight', 'Jim Corbett vs. Peter Courtney']\n"
     ]
    }
   ],
   "source": [
    "actor = []\n",
    "actress = []\n",
    "director = []\n",
    "person = []\n",
    "title = []\n",
    "data = []\n",
    "with open('name_data.tsv', 'r', encoding = 'utf-8') as data_file:\n",
    "    reader = csv.reader(data_file, delimiter=\"\\t\")\n",
    "    for row in reader:\n",
    "        data.append(row)\n",
    "for i in range(1, len(data)):\n",
    "    row = data[i]\n",
    "    job_titles = row[4].split(',')\n",
    "    is_famous = False\n",
    "    if 'actor' in job_titles:\n",
    "        actor.append(row[1])\n",
    "        is_famous = True\n",
    "    if 'actress' in job_titles:\n",
    "        actress.append(row[1])\n",
    "        is_famous = True\n",
    "    if 'director' in job_titles:\n",
    "        director.append(row[1])\n",
    "        is_famous = True\n",
    "    if is_famous:\n",
    "        person.append(row[1])\n",
    "print(actor[:10])\n",
    "with open('title_data.tsv', 'r', encoding = 'utf-8') as data_file:\n",
    "    reader = csv.reader(data_file, delimiter=\"\\t\")\n",
    "    for row in reader:\n",
    "        data.append(row)\n",
    "\n",
    "for i in range(1, len(data)):\n",
    "    row = data[i]\n",
    "    if row[3]=='US':\n",
    "        title.append(row[2])\n",
    "print(title[:10])\n",
    "        "
   ]
  },
  {
   "cell_type": "markdown",
   "id": "c24fae34",
   "metadata": {},
   "source": [
    "Convert each list to a set for fast indexing"
   ]
  },
  {
   "cell_type": "code",
   "execution_count": 3,
   "id": "5a7dc240",
   "metadata": {},
   "outputs": [],
   "source": [
    "actor = set(actor)\n",
    "actress = set(actress)\n",
    "director = set(director)\n",
    "person = set(person)\n",
    "title = set(title)"
   ]
  },
  {
   "cell_type": "markdown",
   "id": "d256a2e8",
   "metadata": {},
   "source": [
    "Check if each set works as expected"
   ]
  },
  {
   "cell_type": "code",
   "execution_count": 4,
   "id": "70649e04",
   "metadata": {},
   "outputs": [
    {
     "name": "stdout",
     "output_type": "stream",
     "text": [
      "True\n"
     ]
    }
   ],
   "source": [
    "print('Daniel Craig' in actor)"
   ]
  },
  {
   "cell_type": "code",
   "execution_count": 5,
   "id": "aa131cdd",
   "metadata": {},
   "outputs": [
    {
     "name": "stdout",
     "output_type": "stream",
     "text": [
      "True\n"
     ]
    }
   ],
   "source": [
    "print('Scarlett Johansson' in actress)"
   ]
  },
  {
   "cell_type": "code",
   "execution_count": 6,
   "id": "1c3fc7ae",
   "metadata": {},
   "outputs": [
    {
     "name": "stdout",
     "output_type": "stream",
     "text": [
      "True\n"
     ]
    }
   ],
   "source": [
    "print('The Godfather' in title)"
   ]
  },
  {
   "cell_type": "code",
   "execution_count": 7,
   "id": "e27f9485",
   "metadata": {},
   "outputs": [
    {
     "name": "stdout",
     "output_type": "stream",
     "text": [
      "True\n"
     ]
    }
   ],
   "source": [
    "print('James Cameron' in director)"
   ]
  },
  {
   "cell_type": "code",
   "execution_count": 8,
   "id": "d9798c06",
   "metadata": {},
   "outputs": [
    {
     "name": "stdout",
     "output_type": "stream",
     "text": [
      "True\n"
     ]
    }
   ],
   "source": [
    "print('Chris Evans' in person)"
   ]
  },
  {
   "cell_type": "markdown",
   "id": "ab054a09",
   "metadata": {},
   "source": [
    "Save the dictionarys to a pickle file"
   ]
  },
  {
   "cell_type": "code",
   "execution_count": 9,
   "id": "2b868d9f",
   "metadata": {},
   "outputs": [],
   "source": [
    "dataset = [actor,actress,director,person,title]\n",
    "with open('imdb_data.pkl', 'wb') as save_file:\n",
    "    pickle.dump(dataset, save_file, protocol=pickle.HIGHEST_PROTOCOL)"
   ]
  }
 ],
 "metadata": {
  "kernelspec": {
   "display_name": "Python [conda env:CS337]",
   "language": "python",
   "name": "conda-env-CS337-py"
  },
  "language_info": {
   "codemirror_mode": {
    "name": "ipython",
    "version": 3
   },
   "file_extension": ".py",
   "mimetype": "text/x-python",
   "name": "python",
   "nbconvert_exporter": "python",
   "pygments_lexer": "ipython3",
   "version": "3.8.12"
  }
 },
 "nbformat": 4,
 "nbformat_minor": 5
}
